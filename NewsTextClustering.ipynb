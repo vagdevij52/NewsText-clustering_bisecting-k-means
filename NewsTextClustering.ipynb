{
 "cells": [
  {
   "cell_type": "code",
   "execution_count": 76,
   "metadata": {},
   "outputs": [],
   "source": [
    "import numpy as np\n",
    "import scipy as sp\n",
    "%matplotlib inline\n",
    "import matplotlib.pyplot as plt\n",
    "from collections import defaultdict\n",
    "from sklearn.utils import shuffle"
   ]
  },
  {
   "cell_type": "code",
   "execution_count": 77,
   "metadata": {},
   "outputs": [
    {
     "name": "stdout",
     "output_type": "stream",
     "text": [
      "8580\n"
     ]
    }
   ],
   "source": [
    "# open docs file and read its lines\n",
    "with open(\"train.dat\", \"r\", encoding=\"utf8\") as fh:\n",
    "    lines = fh.readlines() \n",
    "print(len(lines))"
   ]
  },
  {
   "cell_type": "code",
   "execution_count": 78,
   "metadata": {},
   "outputs": [],
   "source": [
    "docs = list()\n",
    "for row in lines:\n",
    "    docs.append(row.rstrip().split(\" \"))"
   ]
  },
  {
   "cell_type": "code",
   "execution_count": 79,
   "metadata": {
    "scrolled": true
   },
   "outputs": [
    {
     "name": "stdout",
     "output_type": "stream",
     "text": [
      "[1237, 1390, 1391, 1392, 1393, 1394, 1395, 1396, 1397, 121, 1398, 1399, 205, 206, 369, 1400, 1401, 1402, 61, 1403, 1404, 1405, 1406, 1407, 1408, 1409, 69, 210, 4, 6, 135, 533, 534, 618, 692, 1410, 1411, 1412, 1413, 1414, 1415, 1335, 1416, 1417, 1418, 78, 1419, 1096, 142, 540, 145, 308, 386, 864, 1420, 1421, 1422, 1423, 1424, 1182, 1425, 1426, 85, 1427, 1428, 1429, 710, 718, 955, 797, 1430, 1431, 1432, 1433, 1434, 1119, 1435, 1436, 1359, 1199, 722, 960, 169, 20, 22, 1125, 1360, 1126, 1361, 1362, 1363, 1364, 1283, 1365, 1366, 1367, 1368, 1369, 413, 570, 175, 338, 30, 1132, 1133, 35, 1370, 1371, 1138, 1372, 1373, 1374, 1375, 1376, 1377, 1378, 1379, 105, 340, 262, 266, 668, 41, 46, 1380, 1309, 49, 1381, 1382, 1383, 1384, 1385, 1386, 1387, 1388, 1389, 511, 117, 515]\n",
      "[1, 1, 5, 3, 1, 4, 1, 1, 1, 1, 4, 2, 1, 1, 2, 1, 3, 1, 1, 2, 1, 1, 1, 2, 1, 2, 1, 1, 3, 1, 1, 1, 1, 2, 1, 1, 1, 1, 1, 1, 1, 1, 1, 2, 3, 1, 1, 1, 1, 2, 2, 1, 2, 2, 1, 1, 1, 1, 1, 1, 1, 1, 1, 1, 1, 1, 1, 3, 1, 1, 1, 1, 1, 1, 1, 1, 1, 1, 6, 1, 1, 1, 4, 1, 1, 1, 3, 1, 6, 6, 1, 3, 1, 1, 1, 1, 2, 1, 2, 1, 3, 1, 5, 1, 1, 1, 1, 2, 1, 1, 1, 1, 1, 2, 1, 1, 1, 1, 2, 3, 1, 1, 1, 1, 1, 1, 1, 1, 1, 3, 1, 1, 1, 1, 1, 1, 1, 2, 1]\n"
     ]
    }
   ],
   "source": [
    "\n",
    "data = list()\n",
    "occurence = list()\n",
    "for dat in docs:\n",
    "    data_index = list()\n",
    "    occurence_index = list()\n",
    "    for i in range(0, len(dat), 2):      \n",
    "        data_index.append(int(dat[i]))\n",
    "    for j in range(1, len(dat), 2):     \n",
    "        occurence_index.append(int(dat[j]))\n",
    "    data.append(data_index)\n",
    "    occurence.append(occurence_index)\n",
    "\n",
    "print(data[0])\n",
    "print(occurence[0])"
   ]
  },
  {
   "cell_type": "code",
   "execution_count": 80,
   "metadata": {},
   "outputs": [],
   "source": [
    "from collections import Counter\n",
    "from scipy.sparse import csr_matrix\n",
    "def build_matrix(docs):\n",
    "    r\"\"\" Build sparse matrix from a list of documents, \n",
    "    each of which is a list of word/terms in the document.  \n",
    "    \"\"\"\n",
    "    nrows = len(docs)\n",
    "    idx = {}\n",
    "    tid = 0\n",
    "    nnz = 0\n",
    "    for d in docs:\n",
    "        nnz += len(set(d))\n",
    "        for w in d:\n",
    "            if w not in idx:\n",
    "                idx[w] = tid\n",
    "                tid += 1\n",
    "    ncols = len(idx)\n",
    "        \n",
    "    # set up memory\n",
    "    ind = np.zeros(nnz, dtype=np.int)\n",
    "    val = np.zeros(nnz, dtype=np.double)\n",
    "    ptr = np.zeros(nrows+1, dtype=np.int)\n",
    "    i = 0  # document ID / row counter\n",
    "    n = 0  # non-zero counter\n",
    "    # transfer values\n",
    "    for d in docs:\n",
    "        cnt = Counter(d)\n",
    "        keys = list(k for k,_ in cnt.most_common())\n",
    "        l = len(keys)\n",
    "        for j,k in enumerate(keys):\n",
    "            ind[j+n] = idx[k]\n",
    "            val[j+n] = cnt[k]\n",
    "        ptr[i+1] = ptr[i] + l\n",
    "        n += l\n",
    "        i += 1\n",
    "            \n",
    "    mat = csr_matrix((val, ind, ptr), shape=(nrows, ncols), dtype=np.double)\n",
    "    mat.sort_indices()\n",
    "    \n",
    "    return mat"
   ]
  },
  {
   "cell_type": "code",
   "execution_count": 81,
   "metadata": {},
   "outputs": [
    {
     "name": "stderr",
     "output_type": "stream",
     "text": [
      "<ipython-input-80-ec85863f2b21>:20: DeprecationWarning: `np.int` is a deprecated alias for the builtin `int`. To silence this warning, use `int` by itself. Doing this will not modify any behavior and is safe. When replacing `np.int`, you may wish to use e.g. `np.int64` or `np.int32` to specify the precision. If you wish to review your current use, check the release note link for additional information.\n",
      "Deprecated in NumPy 1.20; for more details and guidance: https://numpy.org/devdocs/release/1.20.0-notes.html#deprecations\n",
      "  ind = np.zeros(nnz, dtype=np.int)\n",
      "<ipython-input-80-ec85863f2b21>:22: DeprecationWarning: `np.int` is a deprecated alias for the builtin `int`. To silence this warning, use `int` by itself. Doing this will not modify any behavior and is safe. When replacing `np.int`, you may wish to use e.g. `np.int64` or `np.int32` to specify the precision. If you wish to review your current use, check the release note link for additional information.\n",
      "Deprecated in NumPy 1.20; for more details and guidance: https://numpy.org/devdocs/release/1.20.0-notes.html#deprecations\n",
      "  ptr = np.zeros(nrows+1, dtype=np.int)\n"
     ]
    }
   ],
   "source": [
    "mat = build_matrix(docs)"
   ]
  },
  {
   "cell_type": "code",
   "execution_count": 82,
   "metadata": {},
   "outputs": [],
   "source": [
    "# scale matrix and normalize its rows\n",
    "def csr_idf(mat, copy=False, **kargs):\n",
    "    r\"\"\" Scale a CSR matrix by idf. \n",
    "    Returns scaling factors as dict. If copy is True, \n",
    "    returns scaled matrix and scaling factors.\n",
    "    \"\"\"\n",
    "    if copy is True:\n",
    "        mat = mat.copy()\n",
    "    nrows = mat.shape[0]\n",
    "    nnz = mat.nnz\n",
    "    ind, val, ptr = mat.indices, mat.data, mat.indptr\n",
    "    # document frequency\n",
    "    df = defaultdict(int)\n",
    "    for i in ind:\n",
    "        df[i] += 1\n",
    "    # inverse document frequency\n",
    "    for k,v in df.items():\n",
    "        df[k] = np.log(nrows / float(v)) \n",
    "    # scale by idf\n",
    "    for i in range(0, nnz):\n",
    "        val[i] *= df[ind[i]]\n",
    "        \n",
    "    return df if copy is False else mat"
   ]
  },
  {
   "cell_type": "code",
   "execution_count": 83,
   "metadata": {},
   "outputs": [],
   "source": [
    "def csr_l2normalize(mat, copy=False, **kargs):\n",
    "    r\"\"\" Normalize the rows of a CSR matrix by their L-2 norm. \n",
    "    If copy is True, returns a copy of the normalized matrix.\n",
    "    \"\"\"\n",
    "    if copy is True:\n",
    "        mat = mat.copy()\n",
    "    nrows = mat.shape[0]\n",
    "    nnz = mat.nnz\n",
    "    ind, val, ptr = mat.indices, mat.data, mat.indptr\n",
    "    # normalize\n",
    "    for i in range(nrows):\n",
    "        rsum = 0.0    \n",
    "        for j in range(ptr[i], ptr[i+1]):\n",
    "            rsum += val[j]**2\n",
    "        if rsum == 0.0:\n",
    "            continue  # do not normalize empty rows\n",
    "        rsum = 1.0/np.sqrt(rsum)\n",
    "        for j in range(ptr[i], ptr[i+1]):\n",
    "            val[j] *= rsum\n",
    "            \n",
    "    if copy is True:\n",
    "        return mat"
   ]
  },
  {
   "cell_type": "code",
   "execution_count": 84,
   "metadata": {},
   "outputs": [],
   "source": [
    "def initialCentroids(matrix):\n",
    "    matrixShuffled = shuffle(matrix, random_state=0)\n",
    "    return matrixShuffled[:2,:]"
   ]
  },
  {
   "cell_type": "code",
   "execution_count": 85,
   "metadata": {},
   "outputs": [
    {
     "name": "stdout",
     "output_type": "stream",
     "text": [
      "(8580, 27673)\n",
      "(8580, 27673)\n"
     ]
    }
   ],
   "source": [
    "mat2 = csr_idf(mat, copy=True)\n",
    "mat3 = csr_l2normalize(mat2, copy=True)\n",
    "mat3_pca = mat3.copy()\n",
    "print(mat.shape)\n",
    "print(mat3.shape)"
   ]
  },
  {
   "cell_type": "code",
   "execution_count": 86,
   "metadata": {},
   "outputs": [],
   "source": [
    "# perform PCA decomposition on the data\n",
    "from sklearn.decomposition import PCA, IncrementalPCA\n",
    "pca = PCA(n_components=1500)\n",
    "principalComponents = pca.fit_transform(mat3_pca.toarray())"
   ]
  },
  {
   "cell_type": "code",
   "execution_count": 69,
   "metadata": {},
   "outputs": [],
   "source": [
    "mat3=principalComponents"
   ]
  },
  {
   "cell_type": "code",
   "execution_count": 70,
   "metadata": {},
   "outputs": [],
   "source": [
    "def select_clusters(mat, centroids):\n",
    "    \n",
    "    c1 = list()\n",
    "    c2 = list()\n",
    "    \n",
    "    similarityMatrix = mat.dot(centroids.T)\n",
    "    for i in range(similarityMatrix.shape[0]):\n",
    "        similarityRow = similarityMatrix[i]\n",
    "        \n",
    "        similaritySorted = np.argsort(similarityRow)[-1]\n",
    "        \n",
    "        if similaritySorted == 0:\n",
    "            c1.append(i)\n",
    "        else:\n",
    "            c2.append(i)\n",
    "        \n",
    "    return c1, c2"
   ]
  },
  {
   "cell_type": "code",
   "execution_count": null,
   "metadata": {},
   "outputs": [],
   "source": [
    "def recomputeCentroid(matrix, clusters):\n",
    "    centroids = list()\n",
    "    \n",
    "    for i in range(0,2):\n",
    "        cluster = matrix[clusters[i],:]\n",
    "        clusterMean = cluster.mean(0)\n",
    "        centroids.append(clusterMean)\n",
    "        \n",
    "    centroids_array = np.asarray(centroids)\n",
    "    \n",
    "    return centroids_array"
   ]
  },
  {
   "cell_type": "code",
   "execution_count": 71,
   "metadata": {},
   "outputs": [],
   "source": [
    "from sklearn.cluster import KMeans\n",
    "\n",
    "def kmeans(mat, n_iter):\n",
    "    centroids = initialCentroids(mat)\n",
    "\n",
    "    for _ in range(n_iter):\n",
    "        clusters = list()\n",
    "        c1, c2 = select_clusters(mat, centroids)\n",
    "        \n",
    "        if len(c1) > 1:\n",
    "            clusters.append(c1)\n",
    "        if len(c2) > 1:\n",
    "            clusters.append(c2)\n",
    "        \n",
    "        centroids = recomputeCentroid(mat, clusters)\n",
    "        \n",
    "    return c1, c2"
   ]
  },
  {
   "cell_type": "code",
   "execution_count": 72,
   "metadata": {},
   "outputs": [],
   "source": [
    "def calculateSSE(mat, clusters):\n",
    "    \n",
    "    sseList = list()\n",
    "    sseArray = []\n",
    "    for cluster in clusters:\n",
    "        rmse = np.sum(np.square(mat[cluster,:] - np.mean(mat[cluster,:])))\n",
    "        sseList.append(rmse)\n",
    "    sseArray = np.asarray(sseList)\n",
    "    remove_cluster_idx = np.argsort(sseArray)[-1]\n",
    "    return remove_cluster_idx"
   ]
  },
  {
   "cell_type": "code",
   "execution_count": 73,
   "metadata": {},
   "outputs": [],
   "source": [
    "from sklearn.cluster import KMeans\n",
    "def bisecting_kmeans(mat, k, n_iter):\n",
    "    \n",
    "    clusters = list()\n",
    "    \n",
    "    initialcluster = list()\n",
    "    # appending dimensions to initialcluster\n",
    "    for i in range(mat.shape[0]):\n",
    "        initialcluster.append(i)\n",
    "    \n",
    "    clusters.append(initialcluster)\n",
    "\n",
    "    while len(clusters) < k:# 3\n",
    "\n",
    "        remove_cluster_idx = calculateSSE(mat, clusters)\n",
    "        removed_cluster = clusters[remove_cluster_idx]\n",
    "        \n",
    "        c1, c2 = kmeans(mat[removed_cluster,:], n_iter)\n",
    "        del clusters[remove_cluster_idx]\n",
    "        \n",
    "        \n",
    "        real_c1 = list()\n",
    "        real_c2 = list()\n",
    "        for index in c1:\n",
    "            real_c1.append(removed_cluster[index])\n",
    "            \n",
    "        for index in c2:\n",
    "            real_c2.append(removed_cluster[index])\n",
    "        \n",
    "        clusters.append(real_c1)\n",
    "        clusters.append(real_c2)\n",
    "    \n",
    "    labels = [0] * mat.shape[0]\n",
    "\n",
    "    for index, cluster in enumerate(clusters):\n",
    "        for idx in cluster:\n",
    "            labels[idx] = index + 1\n",
    "    return labels"
   ]
  },
  {
   "cell_type": "code",
   "execution_count": 74,
   "metadata": {},
   "outputs": [
    {
     "name": "stdout",
     "output_type": "stream",
     "text": [
      "For K= 3 silhouette_coefficient Score is 0.003022\n",
      "For K= 5 silhouette_coefficient Score is -0.011180\n",
      "For K= 7 silhouette_coefficient Score is -0.004333\n",
      "For K= 9 silhouette_coefficient Score is -0.001380\n",
      "For K= 11 silhouette_coefficient Score is -0.003256\n",
      "For K= 13 silhouette_coefficient Score is -0.007835\n",
      "For K= 15 silhouette_coefficient Score is -0.005160\n",
      "For K= 17 silhouette_coefficient Score is -0.002862\n",
      "For K= 19 silhouette_coefficient Score is -0.000889\n"
     ]
    }
   ],
   "source": [
    "from sklearn.metrics import silhouette_score\n",
    "k_values = list()\n",
    "scores = list()\n",
    "\n",
    "for k in range(3, 21, 2):\n",
    "    labels = bisecting_kmeans(mat3, k, 10)\n",
    "    if (k == 7):        \n",
    "        outputFile = open(\"output.dat\", \"w\")\n",
    "        for docuId, index in enumerate(labels, start=1):\n",
    "            row = str(index)\n",
    "            outputFile.write(row +'\\n')\n",
    "        outputFile.close()\n",
    "\n",
    "    sscore = silhouette_score(mat3, labels)\n",
    "    k_values.append(k)\n",
    "    scores.append(sscore)\n",
    "    print (\"For K= %d silhouette_coefficient Score is %f\" %(k, sscore))"
   ]
  },
  {
   "cell_type": "code",
   "execution_count": 59,
   "metadata": {},
   "outputs": [
    {
     "data": {
      "text/plain": [
       "Text(0, 0.5, 'Silhouette Score')"
      ]
     },
     "execution_count": 59,
     "metadata": {},
     "output_type": "execute_result"
    },
    {
     "data": {
      "image/png": "[encoded data removed]",
      "text/plain": [
       "<Figure size 432x288 with 1 Axes>"
      ]
     },
     "metadata": {
      "needs_background": "light"
     },
     "output_type": "display_data"
    }
   ],
   "source": [
    "import matplotlib.pyplot as plt\n",
    "get_ipython().run_line_magic('matplotlib', 'inline')\n",
    "plt.plot(k_values, scores)\n",
    "plt.xlabel('Number of Clusters k')\n",
    "plt.ylabel('Silhouette Score')"
   ]
  },
  {
   "cell_type": "code",
   "execution_count": null,
   "metadata": {},
   "outputs": [],
   "source": []
  }
 ],
 "metadata": {
  "kernelspec": {
   "display_name": "Python 3",
   "language": "python",
   "name": "python3"
  },
  "language_info": {
   "codemirror_mode": {
    "name": "ipython",
    "version": 3
   },
   "file_extension": ".py",
   "mimetype": "text/x-python",
   "name": "python",
   "nbconvert_exporter": "python",
   "pygments_lexer": "ipython3",
   "version": "3.8.8"
  }
 },
 "nbformat": 4,
 "nbformat_minor": 4
}
